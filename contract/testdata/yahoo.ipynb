{
 "cells": [
  {
   "cell_type": "markdown",
   "metadata": {},
   "source": [
    "\n",
    "There are two methods:\n",
    "1.You can use the magic command %notebook to save as ipynb\n",
    "\n",
    "  %notebook \"directory/to/file/filename.ipynb\"     \n",
    "2.You can use the magic command %%writefile to save as py file\n",
    "\n",
    "  %%writefile \"directory/to/file/filename.py\"\n",
    "In the second method, you should put this command at the top of the cell, otherwise it will through an error.\n",
    "\n"
   ]
  },
  {
   "cell_type": "code",
   "execution_count": 69,
   "metadata": {
    "scrolled": true
   },
   "outputs": [
    {
     "name": "stdout",
     "output_type": "stream",
     "text": [
      "                ticker  strike undticker     expiry putcall\n",
      "0  AAPL200103C00225000   225.0      AAPL 2019-12-13    call\n",
      "1  AAPL200103C00235000   235.0      AAPL 2019-12-13    call\n",
      "2  AAPL200103C00240000   240.0      AAPL 2019-12-13    call\n",
      "3  AAPL200103C00247500   247.5      AAPL 2019-12-13    call\n",
      "4  AAPL200103C00250000   250.0      AAPL 2019-12-13    call\n",
      "5  AAPL200103C00252500   252.5      AAPL 2019-12-13    call\n",
      "6  AAPL200103C00255000   255.0      AAPL 2019-12-13    call\n",
      "7  AAPL200103C00257500   257.5      AAPL 2019-12-13    call\n",
      "8  AAPL200103C00260000   260.0      AAPL 2019-12-13    call\n",
      "9  AAPL200103C00262500   262.5      AAPL 2019-12-13    call\n"
     ]
    }
   ],
   "source": [
    "import pandas as pd\n",
    "import yfinance as yf\n",
    "import datetime \n",
    "\n",
    "aapl = yf.Ticker(\"AAPL\")\n",
    "flat_df = pd.DataFrame()\n",
    "for expi in aapl.options:\n",
    "    chain = aapl.option_chain(expi)\n",
    "    chain.calls[\"putcall\"] = \"call\"\n",
    "    chain.puts[\"putcall\"] = \"put\"\n",
    "\n",
    "    flat_df = flat_df.append(chain.calls)\n",
    "    flat_df = flat_df.append(chain.puts)\n",
    "    flat_df[\"expiry\"] = datetime.datetime.strptime(expi, '%Y-%m-%d')\n",
    "\n",
    "flat_df[\"undticker\"] = \"AAPL\"\n",
    "flat_df = flat_df[[\"contractSymbol\", \"strike\", \"undticker\", \"expiry\", \"putcall\"]]\n",
    "flat_df = flat_df.rename(columns={'contractSymbol': 'ticker'})\n",
    "\n",
    "print flat_df.head(10)"
   ]
  },
  {
   "cell_type": "code",
   "execution_count": 70,
   "metadata": {
    "scrolled": true
   },
   "outputs": [],
   "source": [
    "flat_df.to_json(os.path.join(os.getcwd(),\"yahoo.json\"), orient='records', date_format='epoch')"
   ]
  },
  {
   "cell_type": "code",
   "execution_count": 71,
   "metadata": {
    "scrolled": false
   },
   "outputs": [
    {
     "ename": "AttributeError",
     "evalue": "'list' object has no attribute 'head'",
     "output_type": "error",
     "traceback": [
      "\u001b[0;31m---------------------------------------------------------------------------\u001b[0m",
      "\u001b[0;31mAttributeError\u001b[0m                            Traceback (most recent call last)",
      "\u001b[0;32m<ipython-input-71-53a7d72319d4>\u001b[0m in \u001b[0;36m<module>\u001b[0;34m()\u001b[0m\n\u001b[1;32m      5\u001b[0m \u001b[0mres\u001b[0m \u001b[0;34m=\u001b[0m \u001b[0;34m[\u001b[0m\u001b[0mrequests\u001b[0m\u001b[0;34m.\u001b[0m\u001b[0mpost\u001b[0m\u001b[0;34m(\u001b[0m\u001b[0;34m'http://localhost:3000/europeans'\u001b[0m\u001b[0;34m,\u001b[0m \u001b[0mjson\u001b[0m\u001b[0;34m=\u001b[0m\u001b[0mcontract\u001b[0m\u001b[0;34m)\u001b[0m \u001b[0;32mfor\u001b[0m \u001b[0mcontract\u001b[0m \u001b[0;32min\u001b[0m \u001b[0mcontracts\u001b[0m\u001b[0;34m]\u001b[0m\u001b[0;34m\u001b[0m\u001b[0m\n\u001b[1;32m      6\u001b[0m \u001b[0;34m\u001b[0m\u001b[0m\n\u001b[0;32m----> 7\u001b[0;31m \u001b[0;32mprint\u001b[0m \u001b[0mres\u001b[0m\u001b[0;34m.\u001b[0m\u001b[0mhead\u001b[0m\u001b[0;34m(\u001b[0m\u001b[0;36m10\u001b[0m\u001b[0;34m)\u001b[0m\u001b[0;34m\u001b[0m\u001b[0m\n\u001b[0m",
      "\u001b[0;31mAttributeError\u001b[0m: 'list' object has no attribute 'head'"
     ]
    }
   ],
   "source": [
    "import simplejson as json\n",
    "import requests\n",
    "\n",
    "contracts = json.loads(flat_df.to_json(orient='records', date_format='epoch'))\n",
    "res = [requests.post('http://localhost:3000/europeans', json=contract) for contract in contracts]\n",
    "\n",
    "print res.head(10)"
   ]
  },
  {
   "cell_type": "code",
   "execution_count": null,
   "metadata": {
    "scrolled": true
   },
   "outputs": [],
   "source": [
    "res = requests.get('http://localhost:3000/europeans')\n",
    "europeans = res.json()['europeans']\n",
    "\n",
    "print json.dumps(europeans[:20], indent=4)"
   ]
  },
  {
   "cell_type": "code",
   "execution_count": null,
   "metadata": {},
   "outputs": [],
   "source": []
  }
 ],
 "metadata": {
  "kernelspec": {
   "display_name": "Python 2",
   "language": "python",
   "name": "python2"
  },
  "language_info": {
   "codemirror_mode": {
    "name": "ipython",
    "version": 2
   },
   "file_extension": ".py",
   "mimetype": "text/x-python",
   "name": "python",
   "nbconvert_exporter": "python",
   "pygments_lexer": "ipython2",
   "version": "2.7.16"
  }
 },
 "nbformat": 4,
 "nbformat_minor": 2
}
