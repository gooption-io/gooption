{
 "cells": [
  {
   "cell_type": "markdown",
   "metadata": {},
   "source": [
    "###  Some useful imports"
   ]
  },
  {
   "cell_type": "code",
   "execution_count": null,
   "metadata": {},
   "outputs": [],
   "source": [
    "import os\n",
    "import datetime \n",
    "import requests\n",
    "import pandas as pd\n",
    "import simplejson as json\n"
   ]
  },
  {
   "cell_type": "markdown",
   "metadata": {},
   "source": [
    "###   Generate json file with test data"
   ]
  },
  {
   "cell_type": "markdown",
   "metadata": {},
   "source": [
    "> Here you want to generate a json file containing data you will be able to use to call your service  \n",
    "> **You can skip / remove this step if you already have a json file with test data**  \n",
    "> To use your file, simply copy it to **testdata folder** eg. testdata/european.json  \n",
    "> **Data should not require any further procesing before calling the service**  "
   ]
  },
  {
   "cell_type": "code",
   "execution_count": 18,
   "metadata": {
    "scrolled": true
   },
   "outputs": [
    {
     "name": "stdout",
     "output_type": "stream",
     "text": [
      "            open  high   low  close     volume  timestamp\n",
      "Date                                                     \n",
      "1980-12-12  0.41  0.41  0.41   0.41  117258400 1980-12-12\n",
      "1980-12-15  0.39  0.39  0.39   0.39   43971200 1980-12-15\n",
      "1980-12-16  0.36  0.36  0.36   0.36   26432000 1980-12-16\n",
      "1980-12-17  0.37  0.37  0.37   0.37   21610400 1980-12-17\n",
      "1980-12-18  0.38  0.38  0.38   0.38   18362400 1980-12-18\n",
      "1980-12-19  0.40  0.40  0.40   0.40   12157600 1980-12-19\n",
      "1980-12-22  0.42  0.42  0.42   0.42    9340800 1980-12-22\n",
      "1980-12-23  0.44  0.44  0.44   0.44   11737600 1980-12-23\n",
      "1980-12-24  0.46  0.46  0.46   0.46   12000800 1980-12-24\n",
      "1980-12-26  0.50  0.51  0.50   0.50   13893600 1980-12-26\n"
     ]
    }
   ],
   "source": [
    "import yfinance as yf\n",
    "\n",
    "# pandas df which will contain puts and calls option quotes for all expiries\n",
    "flat_df = pd.DataFrame()\n",
    "\n",
    "# retrieve data for AAPL (Apple)\n",
    "aapl = yf.Ticker(\"AAPL\")\n",
    "\n",
    "# get historical market data\n",
    "hist = aapl.history(period=\"max\")\n",
    "\n",
    "hist['timestamp'] = hist.index\n",
    "hist.columns = map(str.lower, hist.columns)\n",
    "hist = hist.drop(columns=['dividends', 'stock splits'])\n",
    "\n",
    "# save flat_df to ./yahoo.json\n",
    "res = hist.to_json(os.path.join(os.getcwd(),\"../testdata/stock_quote.json\"), orient='records', date_format='epoch')\n",
    "\n",
    "print hist.head(10)\n",
    "if res is not None:\n",
    "    print 'an error occured'\n",
    "    print res\n"
   ]
  },
  {
   "cell_type": "markdown",
   "metadata": {},
   "source": [
    "### Call service with data from a json file"
   ]
  },
  {
   "cell_type": "code",
   "execution_count": 24,
   "metadata": {},
   "outputs": [
    {
     "name": "stdout",
     "output_type": "stream",
     "text": [
      "[<Response [200]>, <Response [200]>, <Response [200]>, <Response [200]>, <Response [200]>, <Response [200]>, <Response [200]>, <Response [200]>, <Response [200]>, <Response [200]>]\n"
     ]
    }
   ],
   "source": [
    "# load test data from json file and call service endpoint\n",
    "\n",
    "quotes = json.load(open(os.path.join(os.getcwd(),\"../testdata/stock_quote.json\")))\n",
    "\n",
    "res = [requests.post('http://localhost:3000/stock_quotes', json=quote) for quote in quotes]\n",
    "\n",
    "print res[:10]"
   ]
  },
  {
   "cell_type": "markdown",
   "metadata": {},
   "source": [
    "### Check"
   ]
  },
  {
   "cell_type": "code",
   "execution_count": null,
   "metadata": {},
   "outputs": [],
   "source": [
    "# retrieve data from service and print\n",
    "\n",
    "res = requests.get('http://localhost:3000/stock_quotes')\n",
    "stock_quotes = res.json()['stock_quotes']\n",
    "\n",
    "print json.dumps(stock_quotes[:20], indent=4)"
   ]
  }
 ],
 "metadata": {
  "kernelspec": {
   "display_name": "Python 2",
   "language": "python",
   "name": "python2"
  },
  "language_info": {
   "codemirror_mode": {
    "name": "ipython",
    "version": 2
   },
   "file_extension": ".py",
   "mimetype": "text/x-python",
   "name": "python",
   "nbconvert_exporter": "python",
   "pygments_lexer": "ipython2",
   "version": "2.7.16"
  }
 },
 "nbformat": 4,
 "nbformat_minor": 2
}
