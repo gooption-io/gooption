{
 "cells": [
  {
   "cell_type": "markdown",
   "metadata": {},
   "source": [
    "###  Some useful imports"
   ]
  },
  {
   "cell_type": "code",
   "execution_count": null,
   "metadata": {},
   "outputs": [],
   "source": [
    "import os\n",
    "import datetime \n",
    "import requests\n",
    "import pandas as pd\n",
    "import simplejson as json\n"
   ]
  },
  {
   "cell_type": "markdown",
   "metadata": {},
   "source": [
    "###   Generate json file with test data"
   ]
  },
  {
   "cell_type": "markdown",
   "metadata": {},
   "source": [
    "> Here you want to generate a json file containing data you will be able to use to call your service  \n",
    "> **You can skip / remove this step if you already have a json file with test data**  \n",
    "> To use your file, simply copy it to **testdata folder** eg. testdata/european.json  \n",
    "> **Data should not require any further procesing before calling the service**  "
   ]
  },
  {
   "cell_type": "code",
   "execution_count": null,
   "metadata": {
    "scrolled": true
   },
   "outputs": [],
   "source": [
    "import yfinance as yf\n",
    "\n",
    "# pandas df which will contain puts and calls option quotes for all expiries\n",
    "flat_df = pd.DataFrame()\n",
    "\n",
    "# retrieve data for AAPL (Apple)\n",
    "aapl = yf.Ticker(\"AAPL\")\n",
    "\n",
    "# get historical market data\n",
    "hist = aapl.history(period=\"max\")\n",
    "\n",
    "hist['timestamp'] = hist.index\n",
    "hist.columns = map(str.lower, hist.columns)\n",
    "hist = hist.drop(columns=['dividends', 'stock splits'])\n",
    "\n",
    "# save flat_df to ./yahoo.json\n",
    "res = hist.to_json(os.path.join(os.getcwd(),\"../testdata/stock_quote.json\"), orient='records', date_format='epoch')\n",
    "\n",
    "print hist.head(10)\n",
    "if res is not None:\n",
    "    print 'an error occured'\n",
    "    print res\n"
   ]
  },
  {
   "cell_type": "markdown",
   "metadata": {},
   "source": [
    "### Call service with data from a json file"
   ]
  },
  {
   "cell_type": "code",
   "execution_count": null,
   "metadata": {},
   "outputs": [],
   "source": [
    "# load test data from json file and call service endpoint\n",
    "\n",
    "quotes = json.load(open(os.path.join(os.getcwd(),\"../testdata/stock_quote.json\")))\n",
    "\n",
    "res = [requests.post('http://localhost:3000/stock_quotes', json=quote) for quote in quotes]\n",
    "\n",
    "print res[:10]"
   ]
  },
  {
   "cell_type": "markdown",
   "metadata": {},
   "source": [
    "### Check"
   ]
  },
  {
   "cell_type": "code",
   "execution_count": null,
   "metadata": {},
   "outputs": [],
   "source": [
    "# retrieve data from service and print\n",
    "\n",
    "res = requests.get('http://localhost:3000/stock_quotes')\n",
    "stock_quotes = res.json()['stock_quotes']\n",
    "\n",
    "print json.dumps(stock_quotes[:20], indent=4)"
   ]
  }
 ],
 "metadata": {
  "kernelspec": {
   "display_name": "Python 2",
   "language": "python",
   "name": "python2"
  },
  "language_info": {
   "codemirror_mode": {
    "name": "ipython",
    "version": 2
   },
   "file_extension": ".py",
   "mimetype": "text/x-python",
   "name": "python",
   "nbconvert_exporter": "python",
   "pygments_lexer": "ipython2",
   "version": "2.7.16"
  }
 },
 "nbformat": 4,
 "nbformat_minor": 2
}
