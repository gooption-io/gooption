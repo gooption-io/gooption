{
 "cells": [
  {
   "cell_type": "markdown",
   "metadata": {},
   "source": [
    "###  Some useful imports"
   ]
  },
  {
   "cell_type": "code",
   "execution_count": 1,
   "metadata": {},
   "outputs": [],
   "source": [
    "import os\n",
    "import datetime \n",
    "import requests\n",
    "import pandas as pd\n",
    "import simplejson as json\n",
    "import pydgraph"
   ]
  },
  {
   "cell_type": "markdown",
   "metadata": {},
   "source": [
    "###  Generate json file with test data"
   ]
  },
  {
   "cell_type": "markdown",
   "metadata": {},
   "source": [
    "> Here you want to generate a json file containing data you will be able to use to call your service  \n",
    "> **You can skip / remove this step if you already have a json file with test data**  \n",
    "> To use your file, simply copy it to **testdata folder** eg. testdata/european.json  \n",
    "> **Data should not require any further procesing before calling the service**  "
   ]
  },
  {
   "cell_type": "code",
   "execution_count": 2,
   "metadata": {},
   "outputs": [
    {
     "name": "stdout",
     "output_type": "stream",
     "text": [
      "                ticker undticker     expiry  strike putcall\n",
      "0  AAPL200619C00075000      AAPL 2020-02-07    75.0    call\n",
      "1  AAPL200619C00080000      AAPL 2020-02-07    80.0    call\n",
      "2  AAPL200619C00085000      AAPL 2020-02-07    85.0    call\n",
      "3  AAPL200619C00090000      AAPL 2020-02-07    90.0    call\n",
      "4  AAPL200619C00095000      AAPL 2020-02-07    95.0    call\n",
      "5  AAPL200619C00100000      AAPL 2020-02-07   100.0    call\n",
      "6  AAPL200619C00105000      AAPL 2020-02-07   105.0    call\n",
      "7  AAPL200619C00110000      AAPL 2020-02-07   110.0    call\n",
      "8  AAPL200619C00115000      AAPL 2020-02-07   115.0    call\n",
      "9  AAPL200619C00120000      AAPL 2020-02-07   120.0    call\n"
     ]
    }
   ],
   "source": [
    "# retrieve apple listed options contracts from yahoo using yfinance library\n",
    "# format data and save it as a json file\n",
    "\n",
    "import os\n",
    "import datetime \n",
    "import pandas as pd\n",
    "import yfinance as yf\n",
    "\n",
    "# pandas df which will contain puts and calls option quotes for all expiries\n",
    "flat_df = pd.DataFrame()\n",
    "\n",
    "# retrieve data for AAPL (Apple)\n",
    "aapl = yf.Ticker(\"AAPL\")\n",
    "\n",
    "# main loop where we fill flat_df\n",
    "for expi in aapl.options:\n",
    "\n",
    "    # get option chain df for given expiry\n",
    "    chain = aapl.option_chain(expi)\n",
    "    \n",
    "    # add putcall column to both calls and puts df\n",
    "    chain.calls[\"putcall\"] = \"call\"\n",
    "    chain.puts[\"putcall\"] = \"put\"\n",
    "\n",
    "    # append both calls and puts df to flat_df and add expiry column\n",
    "    flat_df = flat_df.append(chain.calls, sort=False)\n",
    "    flat_df = flat_df.append(chain.puts, sort=False)\n",
    "    flat_df[\"expiry\"] = datetime.datetime.strptime(expi, '%Y-%m-%d')\n",
    "\n",
    "\n",
    "# add undticker column, filter columns and rename contractSymbol column\n",
    "flat_df[\"undticker\"] = \"AAPL\"\n",
    "flat_df = flat_df[[\"contractSymbol\", \"undticker\", \"expiry\", \"strike\", \"putcall\"]]\n",
    "flat_df = flat_df.rename(columns={'contractSymbol': 'ticker'})\n",
    "\n",
    "# save flat_df to ./yahoo.json\n",
    "res = flat_df.to_json(os.path.join(os.getcwd(),\"../testdata/european.json\"), orient='records', date_format='epoch')\n",
    "\n",
    "print flat_df.head(10)\n",
    "if res is not None:\n",
    "    print 'an error occured'\n",
    "    print res"
   ]
  },
  {
   "cell_type": "markdown",
   "metadata": {},
   "source": [
    "## Call service with data from a json file"
   ]
  },
  {
   "cell_type": "code",
   "execution_count": 3,
   "metadata": {},
   "outputs": [
    {
     "name": "stdout",
     "output_type": "stream",
     "text": [
      "[<Response [200]>, <Response [200]>, <Response [200]>, <Response [200]>, <Response [200]>, <Response [200]>, <Response [200]>, <Response [200]>, <Response [200]>, <Response [200]>]\n"
     ]
    }
   ],
   "source": [
    "import simplejson as json\n",
    "import requests\n",
    "\n",
    "# load test data from json file and call service endpoint\n",
    "\n",
    "contracts = json.load(open(os.path.join(os.getcwd(),\"../testdata/european.json\")))\n",
    "\n",
    "res = [requests.post('http://localhost:3000/europeans', json=contract) for contract in contracts]\n",
    "print res[:10]"
   ]
  },
  {
   "cell_type": "markdown",
   "metadata": {},
   "source": [
    "## Check"
   ]
  },
  {
   "cell_type": "code",
   "execution_count": null,
   "metadata": {},
   "outputs": [],
   "source": [
    "# retrieve data from service and print\n",
    "\n",
    "res = requests.get('http://localhost:3000/europeans')\n",
    "europeans = res.json()['europeans']\n",
    "\n",
    "print res.json()\n",
    "print json.dumps(europeans[:20], indent=4)\n"
   ]
  }
 ],
 "metadata": {
  "kernelspec": {
   "display_name": "Python 2",
   "language": "python",
   "name": "python2"
  },
  "language_info": {
   "codemirror_mode": {
    "name": "ipython",
    "version": 2
   },
   "file_extension": ".py",
   "mimetype": "text/x-python",
   "name": "python",
   "nbconvert_exporter": "python",
   "pygments_lexer": "ipython2",
   "version": "2.7.16"
  }
 },
 "nbformat": 4,
 "nbformat_minor": 2
}
